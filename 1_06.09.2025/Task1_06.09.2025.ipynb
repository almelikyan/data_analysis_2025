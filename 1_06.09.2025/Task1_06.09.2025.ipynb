{
 "cells": [
  {
   "cell_type": "markdown",
   "metadata": {},
   "source": [
    "# Task 1. Descriptive Data Analysis"
   ]
  },
  {
   "cell_type": "markdown",
   "metadata": {},
   "source": [
    "Use data from the **StudentPerformanceFactors.csv** file with student information.\n",
    "\n",
    "[Source](https://www.kaggle.com/datasets/lainguyn123/student-performance-factors/code)\n",
    "\n",
    "It contains the following variables:\n",
    "\n",
    "| Variable name | Variable description\n",
    "|:-------------------:|:------------------:|\n",
    "| Hours_Studied | Number of hours spent studying per week |\n",
    "| Attendance | Percentage of classes attended | \n",
    "| Parental_Involvement | Level of parental involvement in the student's education (Low, Medium, High)| \n",
    "| Access_to_Resources | Availability of educational resources (Low, Medium, High)| \n",
    "| Extracurricular_Activities | Participation in extracurricular activities (Yes, No).\n",
    "| Sleep_Hours | Average number of hours of sleep per night.\n",
    "| Previous_Scores |\tScores from previous exams.\n",
    "| Motivation_Level |\tStudent's level of motivation (Low, Medium, High).\n",
    "| Internet_Access |\tAvailability of internet access (Yes, No).\n",
    "| Tutoring_Sessions |\tNumber of tutoring sessions attended per month.\n",
    "| Family_Income |\tFamily income level (Low, Medium, High).\n",
    "| Teacher_Quality |\tQuality of the teachers (Low, Medium, High).\n",
    "| School_Type |\tType of school attended (Public, Private).\n",
    "| Peer_Influence |\tInfluence of peers on academic performance (Positive, Neutral, Negative).\n",
    "| Physical_Activity |\tAverage number of hours of physical activity per week.\n",
    "| Learning_Disabilities |\tPresence of learning disabilities (Yes, No).\n",
    "| Parental_Education_Level |\tHighest education level of parents (High School, College, Postgraduate).\n",
    "| Distance_from_Home |\tDistance from home to school (Near, Moderate, Far).\n",
    "| Gender |\tGender of the student (Male, Female).\n",
    "| Exam_Score |\tFinal exam score.\n"
   ]
  },
  {
   "cell_type": "markdown",
   "metadata": {},
   "source": [
    "Please complete the following tasks."
   ]
  },
  {
   "cell_type": "markdown",
   "metadata": {},
   "source": [
    "1. Describe the dataset (number of observations and variables, missing values, data types, variables’ measurement scale)."
   ]
  },
  {
   "cell_type": "code",
   "execution_count": 35,
   "metadata": {},
   "outputs": [],
   "source": [
    "# you can write code here"
   ]
  },
  {
   "cell_type": "markdown",
   "metadata": {},
   "source": [
    "2. Conduct descriptive analysis of the variables using appropriate analysis methods depending on the type of the variables’ measurement scale (frequency data analysis, pivot tables, central tendency and dispersion measures, variables’ distribution characteristics, graphical data analysis). Interpret the results. Please note that data analysis involves the following steps:\n",
    "- research task setting and selection of variables,\n",
    "- selection of the appropriate analysis method,\n",
    "- calculations,\n",
    "- interpretation of results.\n",
    "\n",
    "For example, I would like to analyze the physical activity of students. I consider the variable \"Physical_Activity\". Since it has a ratio scale of measurement, for its analysis I will create a histogram and calculate descriptive statistics. Then I will make conclusions based on the calculations."
   ]
  },
  {
   "cell_type": "code",
   "execution_count": 1,
   "metadata": {},
   "outputs": [],
   "source": [
    "# you can write code here"
   ]
  },
  {
   "cell_type": "markdown",
   "metadata": {},
   "source": [
    "3. Please answer the questions (you may have already answered some of them in the previous section):\n",
    "- What percentage of students are highly motivated?\n",
    "- What is the ratio of students with different levels of parental involvement in their education by family income level?\n",
    "- Is there a relationship between the number of sleep hours and class attendance (at this stage, we study the relationships based on descriptive data analysis)?\n",
    "- How do grades differ for boys and girls living at different distances from school?\n",
    "- What are the specific characteristics of distribution of final exam grades?\n",
    "- Is there a relationship between the level of students' motivation and the quality of teaching?\n",
    "- What are the characteristics of excellent students (please define and describe which students should be classified as excellent)?\n",
    "- Which factors are positively correlated with exam results (at this stage, we study the relationships based on descriptive data analysis)?\n",
    "- Which variables have a distribution close to normal, explain your answer?\n",
    "- Which metric variables have an asymmetry in the distribution of their values?"
   ]
  },
  {
   "cell_type": "code",
   "execution_count": 37,
   "metadata": {},
   "outputs": [],
   "source": [
    "# you can write code here"
   ]
  },
  {
   "attachments": {},
   "cell_type": "markdown",
   "metadata": {},
   "source": [
    "Comments on the task and principles of its assessment:\n",
    "\n",
    "- All points of the task must be accompanied by _executed_ code fragments.\n",
    "- All results of the code execution (statistics, graphs, tables) should be commented, conclusions in the written form should be made based on them.\n",
    "- If you have completed this task, you will receive 8 points (excellent grade). To get a higher grade (9 or 10), you need to go beyond the proposed task. For example, use additional descriptive data analysis methods and instruments, which were not discussed in the class.\n",
    "- This task consists of three parts. The first weighs 10%, the second - 40%, the third - 50%.\n",
    "- The task can be completed individually or in a group of 2 students, the assessment criteria will be the same.\n",
    "- If the task is completed by 2 students, then only one of the students should upload the work to SmartLMS.\n",
    "- The name of the file uploaded to SmartLMS should include the last name(s) of the author(s) of the work.\n",
    "- If you use AI in the work, you must indicate where and how exactly it was used."
   ]
  },
  {
   "cell_type": "markdown",
   "metadata": {},
   "source": [
    "### Please upload the Jupyter Notebook with comments and answers in SmartLMS. The deadline is 10 September 23:55. "
   ]
  }
 ],
 "metadata": {
  "kernelspec": {
   "display_name": "Python 3 (ipykernel)",
   "language": "python",
   "name": "python3"
  },
  "language_info": {
   "codemirror_mode": {
    "name": "ipython",
    "version": 3
   },
   "file_extension": ".py",
   "mimetype": "text/x-python",
   "name": "python",
   "nbconvert_exporter": "python",
   "pygments_lexer": "ipython3",
   "version": "3.11.5"
  }
 },
 "nbformat": 4,
 "nbformat_minor": 2
}
