{
 "cells": [
  {
   "cell_type": "markdown",
   "metadata": {},
   "source": [
    "# Task 5. Linear Regression Analysis"
   ]
  },
  {
   "cell_type": "markdown",
   "metadata": {},
   "source": [
    "Analyze the data on Global AI Job Market & Salary Trends 2025.\n",
    "\n",
    "[Source](https://www.kaggle.com/datasets/bismasajjad/global-ai-job-market-and-salary-trends-2025)\n",
    "\n",
    "The file `ai_job_dataset.csv` contains the following variables:\n",
    "\n",
    "| Variable name | Variable description\n",
    "|:-------------------:|:------------------:|\n",
    "| job_id | Unique identifier for each job posting |\n",
    "| job_title | Standardized job title | \n",
    "| salary_usd | Annual salary in USD| \n",
    "| salary_currency | Original salary currency| \n",
    "| salary_local | Salary in local currency| \n",
    "| experience_level | EN (Entry), MI (Mid), SE (Senior), EX (Executive)| \n",
    "| employment_type |\tFT (Full-time), PT (Part-time), CT (Contract), FL (Freelance)| \n",
    "| company_location | Country where company is located| \t\n",
    "| company_size | S (Small <50), M (Medium 50-250), L (Large >250)| \n",
    "| employee_residence |\tCountry where employee resides|\n",
    "| remote_ratio | 0 (No remote), 50 (Hybrid), 100 (Fully remote)|\n",
    "| required_skills |\tTop 5 required skills (comma-separated)|\n",
    "| education_required |\tMinimum education requirement|\n",
    "| years_experience | Required years of experience|\n",
    "| industry | Industry sector of the company |\n",
    "| posting_date | Date when job was posted |\n",
    "| application_deadline | Application deadline |\n",
    "| job_description_length | Character count of job description |\n",
    "| benefits_score |\tNumerical score of benefits package (1-10) |"
   ]
  },
  {
   "cell_type": "markdown",
   "metadata": {},
   "source": [
    "Please complete the following tasks."
   ]
  },
  {
   "attachments": {},
   "cell_type": "markdown",
   "metadata": {},
   "source": [
    "1. Select a dependent variable which represents the amount of salary. Select at least three categorical and three metric predictors. Make sure that there is no high correlation among the metric predictors and that the categorical predictors do not duplicate each other in terms of their values. If a high correlation is observed among the metric predictors, compute principal components based on them using the principal component analysis (PCA) method."
   ]
  },
  {
   "cell_type": "code",
   "execution_count": 35,
   "metadata": {},
   "outputs": [],
   "source": [
    "# your code here"
   ]
  },
  {
   "cell_type": "markdown",
   "metadata": {},
   "source": [
    "2. Formulate research hypotheses which will be verified during the data analysis."
   ]
  },
  {
   "cell_type": "code",
   "execution_count": null,
   "metadata": {},
   "outputs": [],
   "source": [
    "# your code here"
   ]
  },
  {
   "attachments": {},
   "cell_type": "markdown",
   "metadata": {},
   "source": [
    "3. Build a multiple linear regression model using as predictors either the original metric variables or the principal components calculated based on them, along with the categorical predictors. Write down the regression equation. Assess the goodness-of-fit of the model."
   ]
  },
  {
   "cell_type": "code",
   "execution_count": 1,
   "metadata": {},
   "outputs": [],
   "source": [
    "# your code here"
   ]
  },
  {
   "attachments": {},
   "cell_type": "markdown",
   "metadata": {},
   "source": [
    "4. Assess the statistical significance of the regression coefficients. Compare them with each other in terms of the strength of their relationship with the dependent variable. Provide a detailed interpretation of the relationship between each predictor and the dependent variable. This is a very important part of the task, as it shows how each predictor is related to the dependent variable and what change in the dependent variable can be expected when the predictor’s value changes by one unit."
   ]
  },
  {
   "cell_type": "code",
   "execution_count": 37,
   "metadata": {},
   "outputs": [],
   "source": [
    "# your code here"
   ]
  },
  {
   "cell_type": "markdown",
   "metadata": {},
   "source": [
    "5. Do the model diagnostics. Assess the distribution of the residuals. Is there any heteroscedasticity and why? How many outliers and/or influential observations are present in the model?"
   ]
  },
  {
   "cell_type": "code",
   "execution_count": 13,
   "metadata": {},
   "outputs": [],
   "source": [
    "# your code here"
   ]
  },
  {
   "cell_type": "markdown",
   "metadata": {},
   "source": [
    "6. Formulate general conclusions based on the results of the regression analysis. Which of the data analysis results were expected for you, and which were unexpected?"
   ]
  },
  {
   "cell_type": "code",
   "execution_count": null,
   "metadata": {},
   "outputs": [],
   "source": [
    "# your code here"
   ]
  },
  {
   "cell_type": "markdown",
   "metadata": {},
   "source": [
    "Comments on the task and principles of its assessment:\n",
    "\n",
    "- All points of the task must be accompanied by _executed_ code fragments.\n",
    "- All results of the code execution (statistics, graphs, tables) should be commented, conclusions in the written form should be made based on them.\n",
    "- If you have completed this task, you will receive 8 points (excellent grade). To get a higher grade (9 or 10), you need to go beyond the proposed task. For example, use additional regression methods or create different specifications of the model and compare them.\n",
    "- This task consists of six parts, the weight of each part in the overall assessment is as follows:\n",
    "    1. 15%\n",
    "    2. 5%\n",
    "    3. 15%\n",
    "    4. 40%\n",
    "    5. 20%\n",
    "    6. 5%\n",
    "- The task can be completed individually or in a group of 2 students, the assessment criteria will be the same.\n",
    "- If the task is completed by 2 students, then only one of the students should upload the work to SmartLMS.\n",
    "- The name of the file uploaded to SmartLMS should include the last name(s) of the author(s) of the work.\n",
    "- If you use AI in the work, you must indicate where and how exactly it was used."
   ]
  },
  {
   "cell_type": "markdown",
   "metadata": {},
   "source": [
    "### Please upload the Jupyter Notebook with comments and answers in SmartLMS. The deadline is 16 October 23:55. "
   ]
  }
 ],
 "metadata": {
  "kernelspec": {
   "display_name": "Python 3 (ipykernel)",
   "language": "python",
   "name": "python3"
  },
  "language_info": {
   "codemirror_mode": {
    "name": "ipython",
    "version": 3
   },
   "file_extension": ".py",
   "mimetype": "text/x-python",
   "name": "python",
   "nbconvert_exporter": "python",
   "pygments_lexer": "ipython3",
   "version": "3.11.5"
  }
 },
 "nbformat": 4,
 "nbformat_minor": 2
}
