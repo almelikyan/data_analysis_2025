{
 "cells": [
  {
   "cell_type": "markdown",
   "metadata": {},
   "source": [
    "# Task 4. Cluster Analysis"
   ]
  },
  {
   "cell_type": "markdown",
   "metadata": {},
   "source": [
    "The file **WIPO-GII_2022.xlsx** contains country-level data on the indicators used to calculate the Global Innovation Index for 2022.\n",
    "\n",
    "### Variables:\n",
    "\n",
    "- Country\n",
    "- Business environment\n",
    "- Business sophistication index\n",
    "- Citable documents H-index\n",
    "- Creative goods and services\n",
    "- Creative goods exports, % total trade\n",
    "- Creative outputs index\n",
    "- Cultural and creative services exports, % total trade\n",
    "- Domestic market scale, bn PPP\n",
    "- Ecological sustainability\n",
    "- Expenditure on education, % GDP\n",
    "- Firms offering formal training, %\n",
    "- General infrastructure\n",
    "- Government effectiveness\n",
    "- Government's online service\n",
    "- Graduates in science and engineering, %\n",
    "- Gross expenditure on R&D, % GDP\n",
    "- High-tech exports, % total trade\n",
    "- High-tech imports, % total trade\n",
    "- High-tech manufacturing, %\n",
    "- Human capital and research index\n",
    "- Information and Communications Technology access\n",
    "- Information and Communications Technology services exports, % total trade\n",
    "- Information and Communications Technology services imports, % total trade\n",
    "- Information and Communications Technology use\n",
    "- Infrastructure index\n",
    "- Intangible assets\n",
    "- Joint venture/strategic alliance deals/bn PPP GDP\n",
    "- Knowledge absorption\n",
    "- Knowledge and technology outputs index\n",
    "- Knowledge workers\n",
    "- Knowledge-intensive employment, %\n",
    "- Logistics performance\n",
    "- Market sophistication index\n",
    "- Mobile app creation/bn PPP GDP\n",
    "- Online creativity\n",
    "- PISA scales in reading, maths and science\n",
    "- Political and operational stability\n",
    "- Political environment\n",
    "- Pupil-teacher ratio, secondary\n",
    "- QS university ranking average score of top 3 universities\n",
    "- Research and development (R&D)\n",
    "- Scientific and technical articles/bn PPP GDP\n",
    "- Software spending, % GDP\n",
    "- Tertiary education\n",
    "- Tertiary enrolment, % gross\n",
    "- University-industry R&D collaboration\n",
    "- Region\n",
    "- Region2\n",
    "- Euro area\n",
    "- European Union\n",
    "- OECD members\n",
    "- Least developed countries\n",
    "- Income\n",
    "- High income"
   ]
  },
  {
   "cell_type": "markdown",
   "metadata": {},
   "source": [
    "_Please complete the following tasks._"
   ]
  },
  {
   "cell_type": "markdown",
   "metadata": {},
   "source": [
    "1. Select not less than **10** interval or ratio scale variables for cluster analysis, check that the selected data are applicable for cluster analysis. If there are significant correlations between variables do the principal component analysis for dimensionality reduction. It's possible that you extract components not from all of the initially selected variables, but only from a subset of them. Interpret the results of the KMO measure. Provide a detailed description of each component and justify the choice of its name. Indicate the percentage of the variance of the original variables explained by the extracted components. Save the components as variables in the dataset."
   ]
  },
  {
   "cell_type": "code",
   "execution_count": null,
   "metadata": {},
   "outputs": [],
   "source": [
    "# your code here"
   ]
  },
  {
   "cell_type": "markdown",
   "metadata": {},
   "source": [
    "2. Form the final list of variables to be used for clustering. These may include:\n",
    "\n",
    "- only the original variables,\n",
    "- only the extracted components,\n",
    "- combination of original variables (for which components could not be formed) and components.\n",
    "\n",
    "Provide arguments supporting why the final list of variables can be used for clustering the observed objects."
   ]
  },
  {
   "cell_type": "code",
   "execution_count": 13,
   "metadata": {},
   "outputs": [],
   "source": [
    "# your code here"
   ]
  },
  {
   "attachments": {},
   "cell_type": "markdown",
   "metadata": {},
   "source": [
    "3. Select an appropriate clustering algorithm and justify your choice. Determine the number of clusters and explain your decision. Describe the resulting clusters using descriptive statistics. Please note, that it’s not enough just to create a table with the descriptive statistics. The important aspect of the analysis is the interpretation of the obtained results. You should provide the textual description of each cluster so as it will be clear what are the specific features of each cluster. Assign names to the clusters and justify them."
   ]
  },
  {
   "cell_type": "code",
   "execution_count": null,
   "metadata": {},
   "outputs": [],
   "source": [
    "# your code here"
   ]
  },
  {
   "cell_type": "markdown",
   "metadata": {},
   "source": [
    "4. Conduct a pos-hoc analysis of the data based on the categorical variables in the dataset. For example, examine how countries from different regions are distributed across the clusters, or which clusters mainly include OECD member countries."
   ]
  },
  {
   "cell_type": "code",
   "execution_count": 1,
   "metadata": {},
   "outputs": [],
   "source": [
    "# your code here"
   ]
  },
  {
   "cell_type": "markdown",
   "metadata": {},
   "source": [
    "5. Why do you think did this particular cluster structure emerge? Do the obtained results correspond to your initial assumptions, or did they turn out to be unexpected?"
   ]
  },
  {
   "cell_type": "code",
   "execution_count": 2,
   "metadata": {},
   "outputs": [],
   "source": [
    "# your code here"
   ]
  },
  {
   "cell_type": "markdown",
   "metadata": {},
   "source": [
    "Comments on the task and principles of its assessment:\n",
    "\n",
    "- All points of the task must be accompanied by _executed_ code fragments.\n",
    "- All results of the code execution (statistics, graphs, tables) should be commented, conclusions in the written form should be made based on them.\n",
    "- If you have completed this task, you will receive 8 points (excellent grade). To get a higher grade (9 or 10), you need to go beyond the proposed task. For example, use different methods of cluster analysis and compare the results.\n",
    "- This task consists of five parts. The first weighs 25%, the second - 5%, the third - 50%, the fourth - 15%, the fifth - 5%.\n",
    "- The task can be completed individually or in a group of 2 students, the assessment criteria will be the same.\n",
    "- If the task is completed by 2 students, then only one of the students should upload the work to SmartLMS.\n",
    "- The name of the file uploaded to SmartLMS should include the last name(s) of the author(s) of the work.\n",
    "- If you use AI in the work, you must indicate where and how exactly it was used."
   ]
  },
  {
   "cell_type": "markdown",
   "metadata": {},
   "source": [
    "### Please upload the Jupyter Notebook with comments and answers in SmartLMS. The deadline is 7 October 23:55. "
   ]
  }
 ],
 "metadata": {
  "kernelspec": {
   "display_name": "Python 3 (ipykernel)",
   "language": "python",
   "name": "python3"
  },
  "language_info": {
   "codemirror_mode": {
    "name": "ipython",
    "version": 3
   },
   "file_extension": ".py",
   "mimetype": "text/x-python",
   "name": "python",
   "nbconvert_exporter": "python",
   "pygments_lexer": "ipython3",
   "version": "3.11.5"
  }
 },
 "nbformat": 4,
 "nbformat_minor": 2
}
