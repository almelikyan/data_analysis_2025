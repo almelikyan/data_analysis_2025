{
 "cells": [
  {
   "cell_type": "markdown",
   "metadata": {},
   "source": [
    "# Task 2. Investigating Relationships (part 1)"
   ]
  },
  {
   "cell_type": "markdown",
   "metadata": {},
   "source": [
    "Analyze the data on Global AI Job Market & Salary Trends 2025.\n",
    "\n",
    "[Source](https://www.kaggle.com/datasets/bismasajjad/global-ai-job-market-and-salary-trends-2025)\n",
    "\n",
    "The file `ai_job_dataset.csv` contains the following variables:\n",
    "\n",
    "| Variable name | Variable description\n",
    "|:-------------------:|:------------------:|\n",
    "| job_id | Unique identifier for each job posting |\n",
    "| job_title | Standardized job title | \n",
    "| salary_usd | Annual salary in USD| \n",
    "| salary_currency | Original salary currency| \n",
    "| salary_local | Salary in local currency| \n",
    "| experience_level | EN (Entry), MI (Mid), SE (Senior), EX (Executive)| \n",
    "| employment_type |\tFT (Full-time), PT (Part-time), CT (Contract), FL (Freelance)| \n",
    "| company_location | Country where company is located| \t\n",
    "| company_size | S (Small <50), M (Medium 50-250), L (Large >250)| \n",
    "| employee_residence |\tCountry where employee resides|\n",
    "| remote_ratio | 0 (No remote), 50 (Hybrid), 100 (Fully remote)|\n",
    "| required_skills |\tTop 5 required skills (comma-separated)|\n",
    "| education_required |\tMinimum education requirement|\n",
    "| years_experience | Required years of experience|\n",
    "| industry | Industry sector of the company |\n",
    "| posting_date | Date when job was posted |\n",
    "| application_deadline | Application deadline |\n",
    "| job_description_length | Character count of job description |\n",
    "| benefits_score |\tNumerical score of benefits package (1-10) |"
   ]
  },
  {
   "cell_type": "markdown",
   "metadata": {},
   "source": [
    "Please complete the following tasks."
   ]
  },
  {
   "attachments": {},
   "cell_type": "markdown",
   "metadata": {},
   "source": [
    "1. For interval or ratio scale variables run suitable normality tests to check whether their distribution is close to the normal distribution. Formulate hypothesis. Create graphs to compare the variables’ distributions with the normal distribution. Make conclusions. "
   ]
  },
  {
   "cell_type": "code",
   "execution_count": 35,
   "metadata": {},
   "outputs": [],
   "source": [
    "# your code here"
   ]
  },
  {
   "attachments": {},
   "cell_type": "markdown",
   "metadata": {},
   "source": [
    "2. Run a chi-square test to analyze the relationship between categorical variables. You can take the existing variables or create new categorical variables based on interval or ratio scale variables. Explain why the chi-square test is applicable to analyze the relationship between the selected pairs of variables. Create a contingency table based on these variables and describe the tendencies that you can observe in frequency distribution. Formulate hypotheses for the chi-square test, interpret the results of analysis and make conclusions. Create a suitable graph to demonstrate the relationship between the selected variables."
   ]
  },
  {
   "cell_type": "code",
   "execution_count": 1,
   "metadata": {},
   "outputs": [],
   "source": [
    "# your code here"
   ]
  },
  {
   "attachments": {},
   "cell_type": "markdown",
   "metadata": {},
   "source": [
    "3. Calculate appropriate correlation coefficients between **any three pairs** of variables. Explain the selection of the correlation coefficient. Fill in the table below. Interpret the results. Create suitable graphs to visualize the analyzed relationships. "
   ]
  },
  {
   "attachments": {},
   "cell_type": "markdown",
   "metadata": {},
   "source": [
    "| Variables | Appropriate correlation coefficient(justification of the choice) | Hypotheses | Strength of the relationship | Direction of the relationship | Statistical significance of the relationship! |\n",
    "| --- | --- | --- | --- | --- | --- |\n",
    "| --- | --- | --- | --- | --- | --- |\n",
    "| --- | --- | --- | --- | --- | --- |\n",
    "| --- | --- | --- | --- | --- | --- |"
   ]
  },
  {
   "cell_type": "code",
   "execution_count": 37,
   "metadata": {},
   "outputs": [],
   "source": [
    "# your code here"
   ]
  },
  {
   "cell_type": "markdown",
   "metadata": {},
   "source": [
    "4. Calculate a paired correlation coefficient between any variables. Then calculate the partial correlation coefficient between the same pair of variables controlling for any other third variable. Interpret the results of analysis. Create suitable graphs to visualize the analyzed relationships."
   ]
  },
  {
   "cell_type": "code",
   "execution_count": 13,
   "metadata": {},
   "outputs": [],
   "source": [
    "# your code here"
   ]
  },
  {
   "cell_type": "markdown",
   "metadata": {},
   "source": [
    "Comments on the task and principles of its assessment:\n",
    "\n",
    "- All points of the task must be accompanied by _executed_ code fragments.\n",
    "- All results of the code execution (statistics, graphs, tables) should be commented, conclusions in the written form should be made based on them.\n",
    "- If you have completed this task, you will receive 8 points (excellent grade). To get a higher grade (9 or 10), you need to go beyond the proposed task. For example, use additional methods to investigate relationships between variables.\n",
    "- This task consists of four parts. The first weighs 20%, the second - 20%, the third - 20%, the fourth - 20%.\n",
    "- The task can be completed individually or in a group of 2 students, the assessment criteria will be the same.\n",
    "- If the task is completed by 2 students, then only one of the students should upload the work to SmartLMS.\n",
    "- The name of the file uploaded to SmartLMS should include the last name(s) of the author(s) of the work.\n",
    "- If you use AI in the work, you must indicate where and how exactly it was used."
   ]
  },
  {
   "cell_type": "markdown",
   "metadata": {},
   "source": [
    "### Please upload the Jupyter Notebook with comments and answers in SmartLMS. The deadline is 17 September 23:55. "
   ]
  }
 ],
 "metadata": {
  "kernelspec": {
   "display_name": "Python 3 (ipykernel)",
   "language": "python",
   "name": "python3"
  },
  "language_info": {
   "codemirror_mode": {
    "name": "ipython",
    "version": 3
   },
   "file_extension": ".py",
   "mimetype": "text/x-python",
   "name": "python",
   "nbconvert_exporter": "python",
   "pygments_lexer": "ipython3",
   "version": "3.11.5"
  }
 },
 "nbformat": 4,
 "nbformat_minor": 2
}
